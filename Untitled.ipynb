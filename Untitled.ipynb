{
 "cells": [
  {
   "cell_type": "code",
   "execution_count": 1,
   "id": "babff33d",
   "metadata": {},
   "outputs": [
    {
     "name": "stdout",
     "output_type": "stream",
     "text": [
      " Mời bạn nhập một số(form 1 to 7): 6\n",
      " Thứ bảy\n"
     ]
    }
   ],
   "source": [
    "num = int(input(\" Mời bạn nhập một số(form 1 to 7): \"))\n",
    "if num == 1:\n",
    "    print(\" Thứ hai\")\n",
    "elif num == 2 :\n",
    "    print(\" Thứ ba\")\n",
    "elif num == 3 :\n",
    "    print(\" Thứ tư\")\n",
    "elif num == 4 :\n",
    "    print(\" Thứ năm\")\n",
    "elif num == 5 :\n",
    "    print(\" Thứ sáu\")\n",
    "elif num == 6 :\n",
    "    print(\" Thứ bảy\")\n",
    "elif num == 7 :\n",
    "    print(\" Chủ nhật\")\n",
    "else :\n",
    "    print(\"Error, out of range\")"
   ]
  },
  {
   "cell_type": "code",
   "execution_count": null,
   "id": "3c75ad7b",
   "metadata": {},
   "outputs": [],
   "source": []
  }
 ],
 "metadata": {
  "kernelspec": {
   "display_name": "Python 3 (ipykernel)",
   "language": "python",
   "name": "python3"
  },
  "language_info": {
   "codemirror_mode": {
    "name": "ipython",
    "version": 3
   },
   "file_extension": ".py",
   "mimetype": "text/x-python",
   "name": "python",
   "nbconvert_exporter": "python",
   "pygments_lexer": "ipython3",
   "version": "3.9.12"
  }
 },
 "nbformat": 4,
 "nbformat_minor": 5
}
